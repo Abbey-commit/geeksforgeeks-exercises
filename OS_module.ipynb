{
 "cells": [
  {
   "cell_type": "code",
   "execution_count": 1,
   "id": "7889c07c-8eac-4540-8533-5de059205725",
   "metadata": {},
   "outputs": [],
   "source": [
    "# Checking current working directory"
   ]
  },
  {
   "cell_type": "code",
   "execution_count": 2,
   "id": "75bbf98d-f1d8-41f8-8892-e5d88eb96dcf",
   "metadata": {},
   "outputs": [
    {
     "name": "stdout",
     "output_type": "stream",
     "text": [
      "Current working directory:  C:\\Users\\user\\geeksforgeeks practices\\python exercises\n"
     ]
    }
   ],
   "source": [
    "import os\n",
    "\n",
    "cwd = os.getcwd()\n",
    "print(\"Current working directory: \", cwd)"
   ]
  },
  {
   "cell_type": "code",
   "execution_count": 3,
   "id": "646670d0-3874-425b-a1b2-c0dd17ead435",
   "metadata": {},
   "outputs": [],
   "source": [
    "# Check current and change directory"
   ]
  },
  {
   "cell_type": "code",
   "execution_count": 6,
   "id": "945c43c1-0cc0-4655-94cd-f184e2deb35e",
   "metadata": {},
   "outputs": [
    {
     "name": "stdout",
     "output_type": "stream",
     "text": [
      "Current working directory before.\n",
      "C:\\Users\\user\n",
      "Current working directory after\n",
      "Current working directory before.\n",
      "C:\\Users\n",
      "Current working directory after\n"
     ]
    }
   ],
   "source": [
    "def current_path():\n",
    "    print(\"Current working directory before.\")\n",
    "    print(os.getcwd())\n",
    "    print(\"Current working directory after\")\n",
    "\n",
    "current_path()\n",
    "os.chdir('../')\n",
    "current_path()"
   ]
  },
  {
   "cell_type": "code",
   "execution_count": null,
   "id": "895dbf97-ec0e-4a0a-a52b-a20ec773e779",
   "metadata": {},
   "outputs": [],
   "source": []
  }
 ],
 "metadata": {
  "kernelspec": {
   "display_name": "Python 3 (ipykernel)",
   "language": "python",
   "name": "python3"
  },
  "language_info": {
   "codemirror_mode": {
    "name": "ipython",
    "version": 3
   },
   "file_extension": ".py",
   "mimetype": "text/x-python",
   "name": "python",
   "nbconvert_exporter": "python",
   "pygments_lexer": "ipython3",
   "version": "3.12.7"
  }
 },
 "nbformat": 4,
 "nbformat_minor": 5
}
