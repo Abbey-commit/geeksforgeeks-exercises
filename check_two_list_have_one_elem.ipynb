{
 "cells": [
  {
   "cell_type": "markdown",
   "id": "83c874bb-e503-4aeb-9489-6a1993f34065",
   "metadata": {},
   "source": [
    "###### Using set Intersection\n"
   ]
  },
  {
   "cell_type": "code",
   "execution_count": 2,
   "id": "cf5a4c75-bcd7-4fec-8ca4-5f1fa6bf2f37",
   "metadata": {},
   "outputs": [
    {
     "name": "stdout",
     "output_type": "stream",
     "text": [
      "Element in 'A' and in 'B':  {5}\n"
     ]
    }
   ],
   "source": [
    "a = [1, 2, 3, 4, 5]\n",
    "b = [5, 6, 7, 8, 9]\n",
    "\n",
    "# Find common element using set intersection\n",
    "common = set(a) & set(b)\n",
    "\n",
    "if common:\n",
    "    print(\"Element in 'A' and in 'B': \", common)\n",
    "else:\n",
    "    print(\"There is no common element between them.\")"
   ]
  },
  {
   "cell_type": "code",
   "execution_count": 9,
   "id": "0a17d58e-baf4-4a70-b5e4-4789fecf75ca",
   "metadata": {},
   "outputs": [
    {
     "name": "stdout",
     "output_type": "stream",
     "text": [
      "Common elements exist.\n"
     ]
    }
   ],
   "source": [
    "# Using any(): Method to check and find common element in a series of arrays\n",
    "a = [1, 2, 3, 4, 5]\n",
    "b = [3, 4, 5, 6, 7]\n",
    "\n",
    "# Chek for at least one element common\n",
    "if any(i in b for i in a):\n",
    "    print(\"Common elements exist.\")\n",
    "else:\n",
    "    print(\"No common element.\")"
   ]
  },
  {
   "cell_type": "code",
   "execution_count": 18,
   "id": "0d830193-9985-4aec-82e7-d3fd6300c87d",
   "metadata": {},
   "outputs": [
    {
     "name": "stdout",
     "output_type": "stream",
     "text": [
      "Common element doesn't.\n"
     ]
    }
   ],
   "source": [
    "# Check for common element using loop\n",
    "c = [3, 2, 14]\n",
    "d = [8, 9, 0]\n",
    "\n",
    "common = False\n",
    "for i in c:\n",
    "    if i in d:\n",
    "        common = True\n",
    "        break\n",
    "\n",
    "if common == True:\n",
    "    print(\"Common element exist.\")\n",
    "\n",
    "else:\n",
    "    print(\"Common element doesn't.\")"
   ]
  },
  {
   "cell_type": "code",
   "execution_count": 19,
   "id": "38572d61-8cbf-4cb0-9935-a141c7081765",
   "metadata": {},
   "outputs": [
    {
     "name": "stdout",
     "output_type": "stream",
     "text": [
      "No common element.\n"
     ]
    }
   ],
   "source": [
    "common = set(filter(lambda x: x in d, c))\n",
    "\n",
    "if common:\n",
    "    print(\"Common element exist.\")\n",
    "\n",
    "else:\n",
    "    print(\"No common element.\")"
   ]
  },
  {
   "cell_type": "code",
   "execution_count": 22,
   "id": "1e55edb8-225f-48f4-8170-1c2620968119",
   "metadata": {},
   "outputs": [
    {
     "name": "stdout",
     "output_type": "stream",
     "text": [
      "Items in list 'A'. [8, 9, 0]\n",
      "Items in list 'C'. [3, 2, 14]\n",
      "Common element exist.\n",
      "2\n",
      "3\n"
     ]
    }
   ],
   "source": [
    "# List Comprehension Method - to discover common item in two rrays\n",
    "print(\"Items in list 'A'.\", d)\n",
    "print(\"Items in list 'C'.\", c)\n",
    "\n",
    "# Finding common element using list comprehension\n",
    "common = [item for item in a if item in c]\n",
    "\n",
    "if common:\n",
    "    print(\"Common element exist.\")\n",
    "\n",
    "else:\n",
    "    print(\"Common element doesn't.\")\n",
    "\n",
    "for item in a:\n",
    "    if item in c:\n",
    "        print(item)"
   ]
  },
  {
   "cell_type": "code",
   "execution_count": 25,
   "id": "e5b02703-b5ae-4815-a11e-8d8c7c60452e",
   "metadata": {},
   "outputs": [
    {
     "name": "stdout",
     "output_type": "stream",
     "text": [
      "s\n"
     ]
    }
   ],
   "source": [
    "for i in \"geeksforgeeks\":\n",
    "  # An empty loop\n",
    "  pass\n",
    "print(i)"
   ]
  },
  {
   "cell_type": "code",
   "execution_count": null,
   "id": "17b3dc6f-67af-4aed-b329-ae8bc6f16aa5",
   "metadata": {},
   "outputs": [],
   "source": []
  },
  {
   "cell_type": "code",
   "execution_count": null,
   "id": "f96ebac8-dd30-49d9-a34a-74a99f1dab40",
   "metadata": {},
   "outputs": [],
   "source": []
  }
 ],
 "metadata": {
  "kernelspec": {
   "display_name": "Python 3 (ipykernel)",
   "language": "python",
   "name": "python3"
  },
  "language_info": {
   "codemirror_mode": {
    "name": "ipython",
    "version": 3
   },
   "file_extension": ".py",
   "mimetype": "text/x-python",
   "name": "python",
   "nbconvert_exporter": "python",
   "pygments_lexer": "ipython3",
   "version": "3.12.7"
  }
 },
 "nbformat": 4,
 "nbformat_minor": 5
}
