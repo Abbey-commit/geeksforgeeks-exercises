{
 "cells": [
  {
   "cell_type": "code",
   "execution_count": 1,
   "id": "9fa7c395-75b7-4c22-a7d2-ad4b942bc6d8",
   "metadata": {},
   "outputs": [],
   "source": [
    "# User function template "
   ]
  },
  {
   "cell_type": "code",
   "execution_count": 4,
   "id": "60ebb6d1-11be-46ae-b21a-6e899daa077a",
   "metadata": {},
   "outputs": [],
   "source": [
    "def checkOddEven(x):\n",
    "    if x%2 == 0:\n",
    "        return True\n",
    "    else:\n",
    "        return False"
   ]
  },
  {
   "cell_type": "markdown",
   "id": "852490ff-3b2f-4b9c-8a26-1c087694071e",
   "metadata": {},
   "source": [
    "### Exercise 1\n",
    "Given a positive integer x. Your task is to check, if it is even or odd (Any number that gives zero as remainder when divided by 2 is an even number)"
   ]
  },
  {
   "cell_type": "code",
   "execution_count": 21,
   "id": "f2304fea-2023-42f0-bbdb-94f0f1398e9d",
   "metadata": {},
   "outputs": [
    {
     "name": "stdin",
     "output_type": "stream",
     "text": [
      " 5\n"
     ]
    },
    {
     "name": "stdout",
     "output_type": "stream",
     "text": [
      "Odd\n"
     ]
    }
   ],
   "source": [
    "##### \n",
    "def checkOddEven(x):\n",
    "    if x%2 == 0:\n",
    "        return True\n",
    "    else:\n",
    "        return False\n",
    "# Driver's code\n",
    "def main():\n",
    "\n",
    "    # testcases = int(input())\n",
    "\n",
    "    # while (testcases > 0):\n",
    "    x = int(input())\n",
    "    if checkOddEven(x):\n",
    "        print(\"Even\")\n",
    "    else:\n",
    "        print(\"Odd\")\n",
    "\n",
    "    # testcases += 1\n",
    "    # print(\"~\")\n",
    "\n",
    "if __name__ == \"__main__\":\n",
    "    main()"
   ]
  },
  {
   "cell_type": "code",
   "execution_count": 28,
   "id": "28a7f088-e411-4691-b3c1-f558578b81c9",
   "metadata": {},
   "outputs": [
    {
     "name": "stdin",
     "output_type": "stream",
     "text": [
      " 1\n",
      " 5\n"
     ]
    },
    {
     "name": "stdout",
     "output_type": "stream",
     "text": [
      "Odd\n",
      "~~~\n"
     ]
    }
   ],
   "source": [
    "def checkOddEven(x):\n",
    "    return True if x % 2 == 0 else False\n",
    "\n",
    "# Driver's code\n",
    "def main():\n",
    "\n",
    "    # number of trials\n",
    "    testcases = int(input())\n",
    "\n",
    "    # Condition for looping and outputing\n",
    "    while (testcases > 0):\n",
    "        x = int(input())\n",
    "        if checkOddEven(x):\n",
    "            print(\"Even\")\n",
    "        else:\n",
    "            print(\"Odd\")\n",
    "            \n",
    "        # gradually reduce trial - control for the looping\n",
    "        testcases -= 1\n",
    "        print(\"~~~\")\n",
    "\n",
    "if __name__ == \"__main__\":\n",
    "    main()"
   ]
  },
  {
   "cell_type": "markdown",
   "id": "8af2baa6-c440-4ab5-bff5-c74262c159c9",
   "metadata": {},
   "source": [
    "### Excercise 2\n",
    "Given two integer variables a and b, and a boolean variable flag. The task is to check the status and return accordingly.\n",
    "\n",
    "Return True for the following cases:\n",
    "\n",
    "Either a or b (not both) is non-negative and the flag is false.\n",
    "Both a and b are negative and the flag is true.\n",
    "Otherwise, return False."
   ]
  },
  {
   "cell_type": "code",
   "execution_count": 4,
   "id": "3ec71718-b107-49ef-b5a9-5666c24a1db4",
   "metadata": {},
   "outputs": [
    {
     "name": "stdin",
     "output_type": "stream",
     "text": [
      " 1\n",
      " 2\n",
      " 3\n",
      " 4\n"
     ]
    },
    {
     "name": "stdout",
     "output_type": "stream",
     "text": [
      "False\n",
      "----\n"
     ]
    }
   ],
   "source": [
    "#User function Template for python3\n",
    "class Solution:\n",
    "    def checkStatus(self, a, b, flag):\n",
    "        # code here\n",
    "        self.a = a\n",
    "        self.b = b\n",
    "        self.flag = flag\n",
    "        if ((self.a >= 0 and self.b < 0) or (self.a < 0 and self.b >= 0) and (self.flag == False)):\n",
    "            return True\n",
    "        elif (self.a < 0) and (self.b < 0) and (self.flag == True):\n",
    "            return True\n",
    "        else:\n",
    "            return False\n",
    "\n",
    "def main():\n",
    "    testcases = int(input())\n",
    "    while testcases > 0:\n",
    "        a = int(input())\n",
    "        b = int(input())\n",
    "        flag = input()\n",
    "\n",
    "        if (flag == True):\n",
    "            flag = True\n",
    "        else:\n",
    "            False\n",
    "        if (Solution().checkStatus(a, b, flag) is True):\n",
    "            print(\"True\")\n",
    "        else:\n",
    "            print(\"False\")\n",
    "        testcases -= 1\n",
    "        print(\"----\")\n",
    "if __name__ == \"__main__\":\n",
    "    main()"
   ]
  },
  {
   "cell_type": "markdown",
   "id": "b6b7bd1b-2460-4e7b-847c-04ab2274e5fe",
   "metadata": {},
   "source": [
    "### Exercise 3\n",
    "You are familiar with basics of input/output and many other useful things in Python. This module is all about conditional statements like if, elif, else; for, while, etc.\n",
    "\n",
    "In Python, any conditional statement ends with ':' (proper indentation must be followed while working through loops).\n",
    "\n",
    "There are two friends, John and Smith, and the parameters j_angry and s_angry to indicate if each is angry. You are in trouble if both of them are angry or no one of them is angry.\n",
    "\n",
    "Now, complete the function which returns true if you are in trouble, else return false"
   ]
  },
  {
   "cell_type": "markdown",
   "id": "007b7187-30d5-47e7-a0cc-f47c3af456f9",
   "metadata": {},
   "source": [
    "## def friend_in_trouble(j_angry, s_angry):\n",
    "    if (j_angry == 1 and s_angry == 1):\n",
    "        return True\n",
    "    elif (j_angry != 1 and s_angry != 1):\n",
    "        return True\n",
    "    else:\n",
    "        False\n",
    "\n",
    "# Driver's code\n",
    "def main():\n",
    "\n",
    "    testcase = int(input())\n",
    "\n",
    "    while (testcase > 0):\n",
    "        string = input().split()\n",
    "        j_angry = string[0]\n",
    "        s_angry = string[1]\n",
    "\n",
    "        if (j_angry == \"True\"):\n",
    "            j_angry = True\n",
    "        else:\n",
    "            False\n",
    "        if (s_angry == \"True\"):\n",
    "            s_angry = True\n",
    "        else:\n",
    "            False\n",
    "        print(friend_in_trouble(j_angry, s_angry))\n",
    "        print(\"~~~\")\n",
    "        testcase -= 1\n",
    "\n",
    "if __name__ == \"__main__\":\n",
    "    main()\n"
   ]
  },
  {
   "cell_type": "markdown",
   "id": "0403e251-c69e-439f-a65d-13b752918b41",
   "metadata": {},
   "source": [
    "You are given a string str, you need to return True if  the words \"cat\" and \"hat\" appear same number of times in str, otherwise return False.\n",
    "Note: str contains only lowercase English alphabets."
   ]
  },
  {
   "cell_type": "code",
   "execution_count": 9,
   "id": "1281db6a-74d6-4baa-920e-db648f3b8c3e",
   "metadata": {},
   "outputs": [
    {
     "name": "stdin",
     "output_type": "stream",
     "text": [
      " 2\n",
      " catinahat\n"
     ]
    },
    {
     "name": "stdout",
     "output_type": "stream",
     "text": [
      "True\n",
      "~\n"
     ]
    },
    {
     "name": "stdin",
     "output_type": "stream",
     "text": [
      " hat a cat and hat\n"
     ]
    },
    {
     "name": "stdout",
     "output_type": "stream",
     "text": [
      "False\n",
      "~\n"
     ]
    }
   ],
   "source": [
    "def cat_hat(str):\n",
    "    # code here\n",
    "    if str.count(\"cat\") == str.count(\"hat\"):\n",
    "        return True\n",
    "    else:\n",
    "        return False\n",
    "\n",
    "# Driver's code\n",
    "# def main():\n",
    "#     testcase=int(input())\n",
    "#     while1(testcase > 0):\n",
    "#         str = input()\n",
    "#         print(cat_hat(str))\n",
    "#         testcase-=1\n",
    "#         print(\"~~~\")\n",
    "\n",
    "# if __ncat__==\"__init__\":\n",
    "#     main()\n",
    "\n",
    "def main():\n",
    "    testcases=int(input()) #testcases\n",
    "    while(testcases>0):\n",
    "        str = input()\n",
    "        print(cat_hat(str))\n",
    "        testcases-=1\n",
    "        \n",
    "\n",
    "\n",
    "        print(\"~\")\n",
    "if __name__=='__main__':\n",
    "    main()"
   ]
  },
  {
   "cell_type": "markdown",
   "id": "478d4250-bbf1-47e1-8250-003ec3315856",
   "metadata": {},
   "source": [
    "Writing for loop in Python is a tad different from C++ and Java counterparts. In this question, we'll learn to print table by using the for loop.\n",
    "\n",
    "You are given a number N, you need to print its multiplication table. \n",
    "\n",
    "Tips:\n",
    "Create a function that serveas  a membership operator that is true if something is a member of sequence\n",
    "###### i in range(x,y,z) means i goes from x to y-1 and increments z steps in each iteration\n",
    "###### Separating by spaces using end =\" \""
   ]
  },
  {
   "cell_type": "code",
   "execution_count": 1,
   "id": "e5b40692-41ae-49b0-8bc0-24b22523b47c",
   "metadata": {},
   "outputs": [
    {
     "name": "stdin",
     "output_type": "stream",
     "text": [
      " 2\n",
      " 9\n"
     ]
    },
    {
     "name": "stdout",
     "output_type": "stream",
     "text": [
      "9 18 27 36 45 \n",
      "~~~~~~~~\n"
     ]
    },
    {
     "name": "stdin",
     "output_type": "stream",
     "text": [
      " 8\n"
     ]
    },
    {
     "name": "stdout",
     "output_type": "stream",
     "text": [
      "8 16 24 32 40 \n",
      "~~~~~~~~\n"
     ]
    }
   ],
   "source": [
    "def multiplicationTab(N):\n",
    "    i = 1\n",
    "    for i in range(0, 5):\n",
    "        i += 1\n",
    "        print(i * N, end=' ')\n",
    "\n",
    "def main():\n",
    "    testcases = int(input())\n",
    "    while(testcases > 0):\n",
    "        N = int(input())\n",
    "        multiplicationTab(N)\n",
    "        print()\n",
    "        testcases-=1 \n",
    "        print(\"~~~~~~~~\")\n",
    "\n",
    "if __name__==\"__main__\":\n",
    "    main()"
   ]
  },
  {
   "cell_type": "code",
   "execution_count": 26,
   "id": "96ac5009-833d-479d-8928-e5f090b4f1e4",
   "metadata": {},
   "outputs": [
    {
     "name": "stdout",
     "output_type": "stream",
     "text": [
      "5 10 15 20 25 "
     ]
    }
   ],
   "source": [
    "multiplicationTab(5)"
   ]
  },
  {
   "cell_type": "markdown",
   "id": "977d0927-73cf-40f2-99fd-70b58d552b32",
   "metadata": {},
   "source": []
  },
  {
   "cell_type": "code",
   "execution_count": null,
   "id": "3b1c01b4-d1e6-42f1-a87c-420f26ee1ae0",
   "metadata": {},
   "outputs": [],
   "source": []
  },
  {
   "cell_type": "code",
   "execution_count": 1,
   "id": "1da8f396-e07b-406b-b6a5-a7c02f66877d",
   "metadata": {},
   "outputs": [],
   "source": [
    "def stringJump(str):\n",
    "    for i in range(0, len(str), 2):\n",
    "        print(str[i], end=' ')\n",
    "\n",
    "def main():\n",
    "    testcases = int(input())\n",
    "    while (testcases>0):\n",
    "        text = input()\n",
    "        stringJump(text)\n",
    "        print()\n",
    "        textcases -= 1\n",
    "\n",
    "        print(\"~~~~~~~~\")\n",
    "\n",
    "if __name__=='__init__':\n",
    "    main()"
   ]
  },
  {
   "cell_type": "code",
   "execution_count": 4,
   "id": "7bdeb78b-55c5-46a5-934e-d59ed1f654e3",
   "metadata": {},
   "outputs": [
    {
     "name": "stdin",
     "output_type": "stream",
     "text": [
      " 3\n",
      " The code ran successfully, but it did not function properly at first\n"
     ]
    },
    {
     "name": "stdout",
     "output_type": "stream",
     "text": [
      "T e c d   a   u c s f l y   u   t d d n t f n t o   r p r y a   i s \n",
      "~~~~~~~~\n"
     ]
    },
    {
     "name": "stdin",
     "output_type": "stream",
     "text": [
      " It showed error, even though it ran at first the second time. After the initial issue was resolved.\n"
     ]
    },
    {
     "name": "stdout",
     "output_type": "stream",
     "text": [
      "I   h w d e r r   v n t o g   t r n a   i s   h   e o d t m . A t r t e i i i l i s e w s r s l e . \n",
      "~~~~~~~~\n"
     ]
    },
    {
     "name": "stdin",
     "output_type": "stream",
     "text": [
      " It was the third time that everything was now resolved.\n"
     ]
    },
    {
     "name": "stdout",
     "output_type": "stream",
     "text": [
      "I   a   h   h r   i e t a   v r t i g w s n w r s l e . \n",
      "~~~~~~~~\n"
     ]
    }
   ],
   "source": [
    "def stringJump(str):\n",
    "    for i in range(0, len(str), 2):\n",
    "        print(str[i], end=' ')\n",
    "\n",
    "def main():\n",
    "    testcases = int(input())\n",
    "    while (testcases>0):\n",
    "        text = input()\n",
    "        stringJump(text)\n",
    "        print()\n",
    "        testcases -= 1\n",
    "\n",
    "        print(\"~~~~~~~~\")\n",
    "\n",
    "if __name__=='__main__':\n",
    "    main()"
   ]
  },
  {
   "cell_type": "code",
   "execution_count": null,
   "id": "0e8273ad-c2f1-4851-b19c-85e9791f1cb3",
   "metadata": {},
   "outputs": [],
   "source": []
  },
  {
   "cell_type": "code",
   "execution_count": 5,
   "id": "7f53de58-2b80-45a0-b032-d2ba252c73ba",
   "metadata": {},
   "outputs": [
    {
     "name": "stdin",
     "output_type": "stream",
     "text": [
      "Enter your input:  2\n",
      "Enter the number:  19\n"
     ]
    },
    {
     "name": "stdout",
     "output_type": "stream",
     "text": [
      "19\n",
      "18\n",
      "17\n",
      "16\n",
      "15\n",
      "14\n",
      "13\n",
      "12\n",
      "11\n",
      "10\n",
      "9\n",
      "8\n",
      "7\n",
      "6\n",
      "5\n",
      "4\n",
      "3\n",
      "2\n",
      "1\n",
      "0\n",
      "\n",
      " \n"
     ]
    },
    {
     "name": "stdin",
     "output_type": "stream",
     "text": [
      "Enter the number:  9\n"
     ]
    },
    {
     "name": "stdout",
     "output_type": "stream",
     "text": [
      "9\n",
      "8\n",
      "7\n",
      "6\n",
      "5\n",
      "4\n",
      "3\n",
      "2\n",
      "1\n",
      "0\n",
      "\n",
      " \n"
     ]
    }
   ],
   "source": [
    "def printInDecreasing(x):\n",
    "    while(x >= 0):\n",
    "        print(x)\n",
    "        x -= 1\n",
    "\n",
    "def main():\n",
    "    testcases = int(input(\"Enter your input: \"))\n",
    "    while(testcases>0):\n",
    "        num = int(input(\"Enter the number: \"))\n",
    "        printInDecreasing(num)\n",
    "        print()\n",
    "        testcases -= 1\n",
    "\n",
    "        print(\" \")\n",
    "\n",
    "if __name__==\"__main__\":\n",
    "    main()"
   ]
  },
  {
   "cell_type": "code",
   "execution_count": 7,
   "id": "25325854-344f-4fb7-9a1e-9105bb2e0a24",
   "metadata": {},
   "outputs": [
    {
     "data": {
      "text/plain": [
       "9"
      ]
     },
     "execution_count": 7,
     "metadata": {},
     "output_type": "execute_result"
    }
   ],
   "source": [
    "3**2"
   ]
  },
  {
   "cell_type": "markdown",
   "id": "136605fd-336b-4b0b-9734-9d3afc95c3b3",
   "metadata": {},
   "source": [
    "Now you are familiar with While loop in Python. Let's get deeper into understanding it through below question.\n",
    "\n",
    "Given a positive integer x, the task is to print the numbers from 1 to x in the order as 12, 22, 32, 42, 52, ... (in increasing order)."
   ]
  },
  {
   "cell_type": "code",
   "execution_count": 9,
   "id": "f26c1611-9583-4ef0-9921-6634a6a5aeae",
   "metadata": {},
   "outputs": [
    {
     "name": "stdin",
     "output_type": "stream",
     "text": [
      "Please put number of try:  2\n",
      " 10\n"
     ]
    },
    {
     "name": "stdout",
     "output_type": "stream",
     "text": [
      "1 4 9 \n",
      "~~~~~~~~~\n"
     ]
    },
    {
     "name": "stdin",
     "output_type": "stream",
     "text": [
      " 29\n"
     ]
    },
    {
     "name": "stdout",
     "output_type": "stream",
     "text": [
      "1 4 9 16 25 \n",
      "~~~~~~~~~\n"
     ]
    }
   ],
   "source": [
    "def printIncreasePower(x):\n",
    "    i = 1\n",
    "    while(i**2 <= x):\n",
    "        print(i**2, end=' ')\n",
    "        i += 1\n",
    "\n",
    "def main():\n",
    "    testcases = int(input(\"Please put number of try: \"))\n",
    "    while(testcases>0):\n",
    "        num = int(input())\n",
    "        printIncreasePower(num)\n",
    "        print()\n",
    "        testcases -= 1\n",
    "\n",
    "        print(\"~~~~~~~~~\")\n",
    "if __name__ == \"__main__\":\n",
    "    main()"
   ]
  },
  {
   "cell_type": "markdown",
   "id": "488c6250-8223-4b54-a34d-ba7340ff7bee",
   "metadata": {},
   "source": [
    "You are given a number n. The number n can be negative or positive. If n is negative, print numbers from n to 0 by adding 1 to n in the neg function. If positive, print numbers from n-1 to 0 by subtracting 1 from n in the pos function.\n",
    "\n",
    "Note:- You don't have to return anything, you just have to print the array."
   ]
  },
  {
   "cell_type": "code",
   "execution_count": 12,
   "id": "722641f7-84e6-4e4f-a135-3cae045c9285",
   "metadata": {},
   "outputs": [
    {
     "name": "stdin",
     "output_type": "stream",
     "text": [
      " 3\n",
      " 4\n"
     ]
    },
    {
     "name": "stdout",
     "output_type": "stream",
     "text": [
      "\n",
      "-----\n"
     ]
    },
    {
     "name": "stdin",
     "output_type": "stream",
     "text": [
      " 6\n"
     ]
    },
    {
     "name": "stdout",
     "output_type": "stream",
     "text": [
      "\n",
      "-----\n"
     ]
    },
    {
     "name": "stdin",
     "output_type": "stream",
     "text": [
      " 8\n"
     ]
    },
    {
     "name": "stdout",
     "output_type": "stream",
     "text": [
      "\n",
      "-----\n"
     ]
    }
   ],
   "source": [
    "def neg(n):\n",
    "    for i in range(n-1, -1, -1):\n",
    "        print(i, end=' ')\n",
    "\n",
    "def pos(n):\n",
    "    for i in range(n, 1):\n",
    "        print(i, end=' ')\n",
    "\n",
    "def main():\n",
    "    testcases = int(input())\n",
    "    while (testcases>0):\n",
    "        n = int(input())\n",
    "        if n < 0:\n",
    "            neg(n)\n",
    "        elif n > 0:\n",
    "            pos(n)\n",
    "        else:\n",
    "            print(\"Zero already exist: \", n)\n",
    "        print()\n",
    "        testcases -= 1\n",
    "        print(\"-----\")\n",
    "\n",
    "if __name__==\"__main__\":\n",
    "    main()"
   ]
  },
  {
   "cell_type": "code",
   "execution_count": null,
   "id": "4b50addc-f2a4-4a77-bca2-1e292101de44",
   "metadata": {},
   "outputs": [],
   "source": []
  }
 ],
 "metadata": {
  "kernelspec": {
   "display_name": "Python 3 (ipykernel)",
   "language": "python",
   "name": "python3"
  },
  "language_info": {
   "codemirror_mode": {
    "name": "ipython",
    "version": 3
   },
   "file_extension": ".py",
   "mimetype": "text/x-python",
   "name": "python",
   "nbconvert_exporter": "python",
   "pygments_lexer": "ipython3",
   "version": "3.12.7"
  }
 },
 "nbformat": 4,
 "nbformat_minor": 5
}
