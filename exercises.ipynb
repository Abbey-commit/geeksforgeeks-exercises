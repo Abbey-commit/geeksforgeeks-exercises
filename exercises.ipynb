{
 "cells": [
  {
   "cell_type": "code",
   "execution_count": 1,
   "id": "9fa7c395-75b7-4c22-a7d2-ad4b942bc6d8",
   "metadata": {},
   "outputs": [],
   "source": [
    "# User function template "
   ]
  },
  {
   "cell_type": "code",
   "execution_count": 4,
   "id": "60ebb6d1-11be-46ae-b21a-6e899daa077a",
   "metadata": {},
   "outputs": [],
   "source": [
    "def checkOddEven(x):\n",
    "    if x%2 == 0:\n",
    "        return True\n",
    "    else:\n",
    "        return False"
   ]
  },
  {
   "cell_type": "code",
   "execution_count": 21,
   "id": "f2304fea-2023-42f0-bbdb-94f0f1398e9d",
   "metadata": {},
   "outputs": [
    {
     "name": "stdin",
     "output_type": "stream",
     "text": [
      " 5\n"
     ]
    },
    {
     "name": "stdout",
     "output_type": "stream",
     "text": [
      "Odd\n"
     ]
    }
   ],
   "source": [
    "##### \n",
    "def checkOddEven(x):\n",
    "    if x%2 == 0:\n",
    "        return True\n",
    "    else:\n",
    "        return False\n",
    "# Driver's code\n",
    "def main():\n",
    "\n",
    "    # testcases = int(input())\n",
    "\n",
    "    # while (testcases > 0):\n",
    "    x = int(input())\n",
    "    if checkOddEven(x):\n",
    "        print(\"Even\")\n",
    "    else:\n",
    "        print(\"Odd\")\n",
    "\n",
    "    # testcases += 1\n",
    "    # print(\"~\")\n",
    "\n",
    "if __name__ == \"__main__\":\n",
    "    main()"
   ]
  },
  {
   "cell_type": "code",
   "execution_count": 28,
   "id": "28a7f088-e411-4691-b3c1-f558578b81c9",
   "metadata": {},
   "outputs": [
    {
     "name": "stdin",
     "output_type": "stream",
     "text": [
      " 1\n",
      " 5\n"
     ]
    },
    {
     "name": "stdout",
     "output_type": "stream",
     "text": [
      "Odd\n",
      "~~~\n"
     ]
    }
   ],
   "source": [
    "def checkOddEven(x):\n",
    "    return True if x % 2 == 0 else False\n",
    "\n",
    "# Driver's code\n",
    "def main():\n",
    "\n",
    "    # number of trials\n",
    "    testcases = int(input())\n",
    "\n",
    "    # Condition for looping and outputing\n",
    "    while (testcases > 0):\n",
    "        x = int(input())\n",
    "        if checkOddEven(x):\n",
    "            print(\"Even\")\n",
    "        else:\n",
    "            print(\"Odd\")\n",
    "            \n",
    "        # gradually reduce trial - control for the looping\n",
    "        testcases -= 1\n",
    "        print(\"~~~\")\n",
    "\n",
    "if __name__ == \"__main__\":\n",
    "    main()"
   ]
  },
  {
   "cell_type": "code",
   "execution_count": 4,
   "id": "3ec71718-b107-49ef-b5a9-5666c24a1db4",
   "metadata": {},
   "outputs": [
    {
     "name": "stdin",
     "output_type": "stream",
     "text": [
      " 1\n",
      " 2\n",
      " 3\n",
      " 4\n"
     ]
    },
    {
     "name": "stdout",
     "output_type": "stream",
     "text": [
      "False\n",
      "----\n"
     ]
    }
   ],
   "source": [
    "#User function Template for python3\n",
    "class Solution:\n",
    "    def checkStatus(self, a, b, flag):\n",
    "        # code here\n",
    "        self.a = a\n",
    "        self.b = b\n",
    "        self.flag = flag\n",
    "        if ((self.a >= 0 and self.b < 0) or (self.a < 0 and self.b >= 0) and (self.flag == False)):\n",
    "            return True\n",
    "        elif (self.a < 0) and (self.b < 0) and (self.flag == True):\n",
    "            return True\n",
    "        else:\n",
    "            return False\n",
    "\n",
    "def main():\n",
    "    testcases = int(input())\n",
    "    while testcases > 0:\n",
    "        a = int(input())\n",
    "        b = int(input())\n",
    "        flag = input()\n",
    "\n",
    "        if (flag == True):\n",
    "            flag = True\n",
    "        else:\n",
    "            False\n",
    "        if (Solution().checkStatus(a, b, flag) is True):\n",
    "            print(\"True\")\n",
    "        else:\n",
    "            print(\"False\")\n",
    "        testcases -= 1\n",
    "        print(\"----\")\n",
    "if __name__ == \"__main__\":\n",
    "    main()"
   ]
  },
  {
   "cell_type": "markdown",
   "id": "b6b7bd1b-2460-4e7b-847c-04ab2274e5fe",
   "metadata": {},
   "source": [
    "You are familiar with basics of input/output and many other useful things in Python. This module is all about conditional statements like if, elif, else; for, while, etc.\n",
    "\n",
    "In Python, any conditional statement ends with ':' (proper indentation must be followed while working through loops).\n",
    "\n",
    "There are two friends, John and Smith, and the parameters j_angry and s_angry to indicate if each is angry. You are in trouble if both of them are angry or no one of them is angry.\n",
    "\n",
    "Now, complete the function which returns true if you are in trouble, else return false"
   ]
  },
  {
   "cell_type": "markdown",
   "id": "007b7187-30d5-47e7-a0cc-f47c3af456f9",
   "metadata": {},
   "source": [
    "## def friend_in_trouble(j_angry, s_angry):\n",
    "    if (j_angry == 1 and s_angry == 1):\n",
    "        return True\n",
    "    elif (j_angry != 1 and s_angry != 1):\n",
    "        return True\n",
    "    else:\n",
    "        False\n",
    "\n",
    "# Driver's code\n",
    "def main():\n",
    "\n",
    "    testcase = int(input())\n",
    "\n",
    "    while testcase > 0:\n",
    "        string = input()\n",
    "        j_angry = string[0]\n",
    "        s_angry = string[1]\n",
    "\n",
    "        if (j_angry == \"True\"):\n",
    "            j_angry = True\n",
    "        else:\n",
    "            False\n",
    "        if (s_angry == \"True\"):\n",
    "            s_angry = True\n",
    "        else:\n",
    "            False\n",
    "        print(friend_in_trouble(j_angry, s_angry))\n",
    "        print(\"~~~\")\n",
    "        testcase -= 1\n",
    "\n",
    "if __name__ == \"__main__\":\n",
    "    main()\n"
   ]
  },
  {
   "cell_type": "code",
   "execution_count": null,
   "id": "4f2dcc19-6ae6-4f0f-b13a-48fde8a4854e",
   "metadata": {},
   "outputs": [],
   "source": []
  }
 ],
 "metadata": {
  "kernelspec": {
   "display_name": "Python 3 (ipykernel)",
   "language": "python",
   "name": "python3"
  },
  "language_info": {
   "codemirror_mode": {
    "name": "ipython",
    "version": 3
   },
   "file_extension": ".py",
   "mimetype": "text/x-python",
   "name": "python",
   "nbconvert_exporter": "python",
   "pygments_lexer": "ipython3",
   "version": "3.12.7"
  }
 },
 "nbformat": 4,
 "nbformat_minor": 5
}
