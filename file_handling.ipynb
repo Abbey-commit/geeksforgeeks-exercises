{
 "cells": [
  {
   "cell_type": "code",
   "execution_count": null,
   "id": "586341a4-ea0f-4ed2-8603-adaaa3c19d74",
   "metadata": {},
   "outputs": [],
   "source": [
    "# This consist of the exercises on writing into file and reading from file"
   ]
  },
  {
   "cell_type": "markdown",
   "id": "5bc40199-bfce-445e-bc5e-738eae3333ed",
   "metadata": {},
   "source": [
    "###### Creating, Writing to file, and reading from file"
   ]
  },
  {
   "cell_type": "code",
   "execution_count": 9,
   "id": "e6da5a46-2c44-400f-9d73-7b51963302dc",
   "metadata": {},
   "outputs": [
    {
     "name": "stdout",
     "output_type": "stream",
     "text": [
      "Create texts with the followings.\n",
      "Another appended to the file.\n",
      "Already exist.\n"
     ]
    }
   ],
   "source": [
    "# class FileExistError(Exception):\n",
    "#     def __init__(self, msg):\n",
    "#         self.msg = msg\n",
    "\n",
    "#     def display_msg(self):\n",
    "#         return f\"File already exist. {self.msg}\"\n",
    "\n",
    "with open(\"file.txt\", \"w\") as f:\n",
    "  f.write(\"Create texts with the followings.\")\n",
    "  \n",
    "f = open(\"file.txt\", \"r\")\n",
    "print(f.read())\n",
    "\n",
    "with open(\"file.txt\", \"w\") as f:\n",
    "  f.write(\"Another appended to the file.\")\n",
    "  \n",
    "f = open(\"file.txt\", \"r\") \n",
    "print(f.read())\n",
    "\n",
    "try:  #Using try and except to handle exception\n",
    "  with open(\"file.txt\", \"x\") as f:\n",
    "    f.write(\"Create with exclusive mode.\")\n",
    "except FileExistsError:\n",
    "  print(\"Already exist.\")"
   ]
  },
  {
   "cell_type": "code",
   "execution_count": 4,
   "id": "66433486-e61a-4c64-887f-586f25a256c1",
   "metadata": {},
   "outputs": [
    {
     "name": "stdout",
     "output_type": "stream",
     "text": [
      "File in writen mode.\n",
      "First line of texts.\n",
      "Second line of texts.\n",
      "Third line of text.\n"
     ]
    }
   ],
   "source": [
    "\n",
    "\n",
    "with open(\"file1.txt\", \"w\") as f:\n",
    "  f.write(\"File in writen mode.\")\n",
    "  \n",
    "f = open(\"file1.txt\", \"r\")\n",
    "print(f.read())\n",
    "\n",
    "\n",
    "s = [\"First line of texts.\\n\", \"Second line of texts.\\n\", \"Third line of text.\"]\n",
    "\n",
    "with open(\"file1.txt\", \"w\")as f:\n",
    "  f.writelines(s)\n",
    "  \n",
    "  \n",
    "f = open(\"file1.txt\", \"r\")\n",
    "print(f.read())"
   ]
  },
  {
   "cell_type": "code",
   "execution_count": 10,
   "id": "397ce295-6deb-49e7-b704-118fdf7409c0",
   "metadata": {},
   "outputs": [],
   "source": [
    "# Writing binary data to a file"
   ]
  },
  {
   "cell_type": "code",
   "execution_count": 14,
   "id": "bac51d69-1b6c-4b00-a3fd-e908bb0bbe17",
   "metadata": {},
   "outputs": [
    {
     "name": "stdout",
     "output_type": "stream",
     "text": [
      "00x\u0001x\u0002x\u0003x\n"
     ]
    }
   ],
   "source": [
    "bin = b'00x\\01x\\02x\\03x'\n",
    "\n",
    "with open(\"file2.bin\", \"wb\")as f:\n",
    "    f.write(bin)\n",
    "\n",
    "f = open(\"file2.bin\", \"r\")\n",
    "print(f.read())"
   ]
  },
  {
   "cell_type": "code",
   "execution_count": 15,
   "id": "6a4949f7-5a24-4589-af7b-fd1c69db2b49",
   "metadata": {},
   "outputs": [],
   "source": [
    "# Writing to an html file"
   ]
  },
  {
   "cell_type": "code",
   "execution_count": 17,
   "id": "8bef6a37-323f-489d-a22b-d7bf37ffd512",
   "metadata": {},
   "outputs": [],
   "source": [
    "func = open(\"file3.html\", \"w\")\n",
    "func.write(\"<html>\\n<head>\\n<title> \\nOutput data in an HTML File \\\n",
    "    </title>\\n</head> <body><h1>Welcome to <u>GeeksforGeeks</u></h1>\\n<h2>A <u>CS</u> Portal for everyone</h2> \\n</body></html>\")\n",
    "\n",
    "func.close()"
   ]
  },
  {
   "cell_type": "code",
   "execution_count": null,
   "id": "4356f7c0-e32c-4fe9-90a7-590edc8ed38e",
   "metadata": {},
   "outputs": [],
   "source": []
  }
 ],
 "metadata": {
  "kernelspec": {
   "display_name": "Python 3 (ipykernel)",
   "language": "python",
   "name": "python3"
  },
  "language_info": {
   "codemirror_mode": {
    "name": "ipython",
    "version": 3
   },
   "file_extension": ".py",
   "mimetype": "text/x-python",
   "name": "python",
   "nbconvert_exporter": "python",
   "pygments_lexer": "ipython3",
   "version": "3.12.7"
  }
 },
 "nbformat": 4,
 "nbformat_minor": 5
}
