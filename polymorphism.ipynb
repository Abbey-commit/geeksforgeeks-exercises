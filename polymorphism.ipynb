{
 "cells": [
  {
   "cell_type": "markdown",
   "id": "d7f96e44-5ac0-4c74-a8a3-edcf5e78874c",
   "metadata": {},
   "source": [
    "##### Polymorphism in Built-in Functions\n",
    "Python’s built-in functions exhibit polymorphism, adapting to various data types.\n"
   ]
  },
  {
   "cell_type": "code",
   "execution_count": 1,
   "id": "75707e37-8aa4-4cdb-a884-ca9ff50343a7",
   "metadata": {},
   "outputs": [
    {
     "name": "stdout",
     "output_type": "stream",
     "text": [
      "5\n",
      "3\n",
      "3\n",
      "z\n",
      "5\n",
      "5\n",
      "3\n",
      "5\n",
      "k\n"
     ]
    }
   ],
   "source": [
    "print(len(\"Hello\"))  # String length\n",
    "print(len([1, 2, 3]))  # List length\n",
    "\n",
    "print(max(1, 3, 2))  # Maximum of integers\n",
    "print(max(\"a\", \"z\", \"m\"))  # Maximum in strings\n",
    "\n",
    "print(len(\"Hello\")) # String length\n",
    "print(len([1, 2, 3, 4, 5])) # integer length\n",
    "\n",
    "print(len([2, 4, 5]))\n",
    "print(max(2, 4, 5))\n",
    "print(max(\"k\", \"e\", \"5\", '100')) # Maximum in string with integer item\n"
   ]
  },
  {
   "cell_type": "markdown",
   "id": "d2b38cc5-937c-4e32-9863-d128778d3d49",
   "metadata": {},
   "source": [
    "###### Polymorphism in Functions\n",
    "Duck typing enables functions to work with any object regardless of its type."
   ]
  },
  {
   "cell_type": "code",
   "execution_count": 2,
   "id": "194cfa72-5e32-437b-9e36-2e3313c27b9c",
   "metadata": {},
   "outputs": [
    {
     "name": "stdout",
     "output_type": "stream",
     "text": [
      "7\n",
      "Hello, World!\n",
      "[1, 2, 3, 4]\n",
      "6\n",
      "Hello MyPeople!\n",
      "[0, 4, 3, 5]\n"
     ]
    }
   ],
   "source": [
    "def add(a, b):\n",
    "    return a + b\n",
    "\n",
    "print(add(3, 4))           # Integer addition\n",
    "print(add(\"Hello, \", \"World!\"))  # String concatenation\n",
    "print(add([1, 2], [3, 4])) # List concatenation\n",
    "\n",
    "def b(c, d):\n",
    "  return c + d\n",
    "\n",
    "print(b(2, 4)) # Integer addition\n",
    "print(b(\"Hello \", \"MyPeople!\")) # String concatenation\n",
    "\n",
    "print(b([0, 4], [3, 5])) # List concatenation"
   ]
  },
  {
   "cell_type": "markdown",
   "id": "caba582c-c0c0-49ec-bdf1-17b786aa126d",
   "metadata": {},
   "source": [
    "###### Polymorphism in OOPs \n",
    "Technique of polymorphism that allow it to use many method and classes in a "
   ]
  },
  {
   "cell_type": "code",
   "execution_count": 4,
   "id": "9b3a7918-592d-46d7-8022-1bbbba08de30",
   "metadata": {},
   "outputs": [
    {
     "name": "stdout",
     "output_type": "stream",
     "text": [
      "Area: 32\n",
      "Area: 201.0816\n"
     ]
    }
   ],
   "source": [
    "class Shape: # Main class\n",
    "    def area(self):\n",
    "        return \"Uundefine\"\n",
    "\n",
    "class Rectangle(Shape): # First class inside class\n",
    "    def __init__(self, length, width):\n",
    "        self.length = length\n",
    "        self.width = width\n",
    "\n",
    "    def area(self): # Method for class Rectangle\n",
    "        return self.length * self.width\n",
    "\n",
    "class Circle(Shape): # Second class inside same class\n",
    "    def __init__(self, radius):\n",
    "        self.radius = radius\n",
    "\n",
    "    def area(self): # method for the class Circle\n",
    "        return 3.1419 * self.radius ** 2\n",
    "\n",
    "shape = [Rectangle(8, 4), Circle(8)]\n",
    "for s in shape:\n",
    "    print(f\"Area: {s.area()}\")"
   ]
  },
  {
   "cell_type": "markdown",
   "id": "d4c52d69-b8fd-4e00-930c-a08109563350",
   "metadata": {},
   "source": [
    "##### Method override technique in polymorphism"
   ]
  },
  {
   "cell_type": "code",
   "execution_count": 7,
   "id": "47c32e66-9cd5-4a59-9d51-5966c44b1299",
   "metadata": {},
   "outputs": [
    {
     "name": "stdout",
     "output_type": "stream",
     "text": [
      "Animal and sound: bark\n",
      "Animal and sound: meow!\n",
      "Animal and sound: Animal makes generic sound.\n"
     ]
    }
   ],
   "source": [
    "class Animal:\n",
    "    def sound(self):\n",
    "        return \"Animal makes generic sound.\"\n",
    "\n",
    "class Dog(Animal):\n",
    "    def sound(self):\n",
    "        return \"bark\"\n",
    "\n",
    "class Cat(Animal):\n",
    "    def sound(self):\n",
    "        return \"meow!\"\n",
    "\n",
    "animal = [Dog(), Cat(), Animal()]\n",
    "for a in animal:\n",
    "    print(f\"Animal and sound: {a.sound()}\")"
   ]
  },
  {
   "cell_type": "markdown",
   "id": "3b519335-c478-4cf0-a781-d575a573279b",
   "metadata": {},
   "source": [
    "###### Basic Example of Inheritance\n",
    "Inheritance allows us to define a class that inherits all the methods and properties from another class."
   ]
  },
  {
   "cell_type": "code",
   "execution_count": 8,
   "id": "ea86c357-193b-4685-b4be-fec83c347d72",
   "metadata": {},
   "outputs": [
    {
     "name": "stdout",
     "output_type": "stream",
     "text": [
      "Whisky bark!\n"
     ]
    }
   ],
   "source": [
    "class Animal: # Parent class\n",
    "    def __init__(self, name):\n",
    "        self.name = name # name initialization\n",
    "\n",
    "        def speak(self):\n",
    "            pass # method that override child class\n",
    "\n",
    "class Dog(Animal): # child class inherit from class Animal above\n",
    "    def speak(self):\n",
    "        return f\"{self.name} bark!\" \n",
    "\n",
    "dog = Dog(\"Whisky\")\n",
    "print(dog.speak())\n",
    "\n",
    "class Animal:\n",
    "    def __init__(self, name):\n",
    "        "
   ]
  },
  {
   "cell_type": "code",
   "execution_count": 1,
   "id": "a2cb5a49-8cec-466e-88d2-8066be76c62f",
   "metadata": {},
   "outputs": [
    {
     "name": "stdout",
     "output_type": "stream",
     "text": [
      "Whisky backs!\n"
     ]
    }
   ],
   "source": [
    "class Animal: # Parent class\n",
    "  def __init__(self, name):\n",
    "    self.name = name # Initialing the name attr\n",
    "    \n",
    "  def speak(self):\n",
    "    pass # Placeholder for child class to override\n",
    "    \n",
    "class Dog(Animal): # child class under Animal\n",
    "  def speak(self): # method for speak type for dog\n",
    "    return f\"{self.name} backs!\" # override the speak method\n",
    "  \n",
    "dog = Dog(\"Whisky\") # creating an instance of Dog\n",
    "print(dog.speak()) # the attri of the dog"
   ]
  },
  {
   "cell_type": "code",
   "execution_count": 5,
   "id": "2beeb26a-89d9-4c0f-a112-8116e14e5f1b",
   "metadata": {},
   "outputs": [
    {
     "name": "stdout",
     "output_type": "stream",
     "text": [
      "Church founders Name in Nigeria: Pastor Adeboye -- Nickname: Daddy G O\n",
      "None\n",
      "Church founders Name in Nigeria: Bishop Oyedepo -- Nickname: Papa\n",
      "None\n",
      "Church founders Name in Nigeria: Pastor Iren -- Nickname: Pastay\n",
      "None\n"
     ]
    }
   ],
   "source": [
    "\n",
    "\n",
    "class ChurchFounders(object): # Base class\n",
    "  def __init__(self, name, nickname): # Initialize their attri of the object of the base class\n",
    "    self.name = name\n",
    "    self.nickname = nickname\n",
    "    \n",
    "  def display(self): # declare the display method of the class\n",
    "    print(f'Church founders Name in Nigeria: {self.name} -- Nickname: {self.nickname}') # print the attributes of the class\n",
    "  \n",
    "# Driver's code\n",
    "# Create an instances of the base class\n",
    "chuch_founder = ChurchFounders(\"Pastor Adeboye\", \"Daddy G O\") \n",
    "church_founder1 = ChurchFounders(\"Bishop Oyedepo\", \"Papa\")\n",
    "church_founder3 = ChurchFounders(\"Pastor Iren\", \"Pastay\")\n",
    "# print the attributes with calling of display method\n",
    "print(chuch_founder.display())\n",
    "print(church_founder1.display())\n",
    "print(church_founder3.display())"
   ]
  },
  {
   "cell_type": "code",
   "execution_count": null,
   "id": "ccf4c00a-064c-41ac-a014-6a2ef6f27885",
   "metadata": {},
   "outputs": [],
   "source": []
  }
 ],
 "metadata": {
  "kernelspec": {
   "display_name": "Python 3 (ipykernel)",
   "language": "python",
   "name": "python3"
  },
  "language_info": {
   "codemirror_mode": {
    "name": "ipython",
    "version": 3
   },
   "file_extension": ".py",
   "mimetype": "text/x-python",
   "name": "python",
   "nbconvert_exporter": "python",
   "pygments_lexer": "ipython3",
   "version": "3.12.7"
  }
 },
 "nbformat": 4,
 "nbformat_minor": 5
}
