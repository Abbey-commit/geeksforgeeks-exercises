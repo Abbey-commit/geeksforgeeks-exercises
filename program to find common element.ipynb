{
 "cells": [
  {
   "cell_type": "markdown",
   "id": "7a40973d-8c7b-4642-90bb-c749c006726f",
   "metadata": {},
   "source": [
    "# This is an exercise that is based on finding the intersection among the array of sets."
   ]
  },
  {
   "cell_type": "code",
   "execution_count": 7,
   "id": "9aede4e0-d0f6-48fb-b6e8-452a61036e57",
   "metadata": {},
   "outputs": [],
   "source": [
    "# Python program to find common intersect in set\n",
    "def IntersectOfSets(arr1, arr2, arr3):\n",
    "\n",
    "    # Create 3 variables of sets\n",
    "    s1 = set(arr1)\n",
    "    s2 = set(arr2)\n",
    "    s3 = set(arr3)\n",
    "\n",
    "    # Find the intersection of between s1 and s2\n",
    "    set1 = s1.intersection(s2)\n",
    "\n",
    "    # Find the intersection between set1 and s3\n",
    "    final_result = set1.intersection(s3)\n",
    "\n",
    "    # Convert the set to a list\n",
    "    final_result = list(final_result)\n",
    "    print(final_result)"
   ]
  },
  {
   "cell_type": "code",
   "execution_count": 9,
   "id": "913f4077-43e4-4d01-8391-32fdf5c579af",
   "metadata": {},
   "outputs": [
    {
     "name": "stdout",
     "output_type": "stream",
     "text": [
      "[80, 20, 30]\n"
     ]
    }
   ],
   "source": [
    "# Driver code\n",
    "if __name__ == \"__main__\" : \n",
    "\n",
    "    # Element in Array1\n",
    "    arr1 = [1, 5, 10, 20, 40, 30, 80, 100]\n",
    "\n",
    "    # Element in Array2\n",
    "    arr2 = [6, 7, 20, 80, 30, 100]\n",
    "\n",
    "    # Element in Array3\n",
    "    arr3 = [3, 4, 15, 20, 30, 70, 80, 120]\n",
    "\n",
    "    # Calling Function\n",
    "    IntersectOfSets(arr1, arr2, arr3)"
   ]
  },
  {
   "cell_type": "code",
   "execution_count": 12,
   "id": "0111e1eb-573a-4cd7-b9ee-69e142428071",
   "metadata": {},
   "outputs": [],
   "source": [
    "# Method 2: Using Set - Finding common element in different lists of items/values \n",
    "def find_common_ele(list1, list2, list3):\n",
    "    common = set()\n",
    "    for ele in list1:\n",
    "        if ele in list2 and ele in list3:\n",
    "            common.add(ele)\n",
    "    return common\n",
    "    "
   ]
  },
  {
   "cell_type": "code",
   "execution_count": 13,
   "id": "c5c9af2e-054a-4669-9059-d420cc92ad17",
   "metadata": {},
   "outputs": [
    {
     "name": "stdout",
     "output_type": "stream",
     "text": [
      "{80, 20, 30}\n"
     ]
    }
   ],
   "source": [
    "arr1 = [1, 5, 10, 20, 40, 30, 80, 100]\n",
    "arr2 = [6, 7, 20, 80, 30, 100]\n",
    "arr3 = [3, 4, 15, 20, 30, 70, 80, 120]\n",
    "\n",
    "Common_element = find_common_ele(arr1, arr2, arr3)\n",
    "print(Common_element)"
   ]
  },
  {
   "cell_type": "raw",
   "id": "5cffee80-62c9-4ff7-83e4-c03844d2fd68",
   "metadata": {},
   "source": [
    "Method 3: Another approach using list comprehension and the intersection method"
   ]
  },
  {
   "cell_type": "code",
   "execution_count": 14,
   "id": "7b3a4337-04aa-4a11-9bf0-60aa38237f0a",
   "metadata": {},
   "outputs": [],
   "source": [
    "def common_element(list1, list2, list3):\n",
    "    # Convert list to set\n",
    "    s1 = set(list1)\n",
    "    s2 = set(list2)\n",
    "    s3 = set(list3)\n",
    "\n",
    "    # Return result in list with a list compr methid\n",
    "    return [ele for ele in list1 if ele in list2 and ele in list3]"
   ]
  },
  {
   "cell_type": "code",
   "execution_count": 15,
   "id": "5d3ffe1e-82a5-4834-9df6-5fec83f0ab19",
   "metadata": {},
   "outputs": [
    {
     "name": "stdout",
     "output_type": "stream",
     "text": [
      "[20, 30, 80]\n"
     ]
    }
   ],
   "source": [
    "# Call the function above\n",
    "\n",
    "arr1 = [1, 5, 10, 20, 40, 30, 80, 100]\n",
    "arr2 = [6, 7, 20, 80, 30, 100]\n",
    "arr3 = [3, 4, 15, 20, 30, 70, 80, 120]\n",
    "\n",
    "Common_elem = common_element(arr1, arr2, arr3)\n",
    "print(Common_elem)"
   ]
  },
  {
   "cell_type": "markdown",
   "id": "51c3c86c-e34c-45d5-acb5-0439037a1d03",
   "metadata": {},
   "source": [
    "#### Method 4 : Use a loop to iterate over the element of one list and check if they exist in the other two lists"
   ]
  },
  {
   "cell_type": "code",
   "execution_count": 16,
   "id": "bf971bee-8528-4324-b904-258006d27b69",
   "metadata": {},
   "outputs": [
    {
     "name": "stdout",
     "output_type": "stream",
     "text": [
      "[5]\n"
     ]
    }
   ],
   "source": [
    "def IntersectOfSets(arr1, arr2, arr3):\n",
    "    result = []\n",
    "    for i in arr1:\n",
    "        if i in arr2 and i in arr3:\n",
    "            result.append(i)\n",
    "    return (list(set(result)))\n",
    "\n",
    "arr1 = [1, 2, 3, 4, 5]\n",
    "arr2 = [3, 4, 5, 6, 7]\n",
    "arr3 = [5, 6, 7, 8, 9]\n",
    "\n",
    "common = IntersectOfSets(arr1, arr2, arr3)\n",
    "print(common)"
   ]
  },
  {
   "cell_type": "markdown",
   "id": "a5a64ccb-c325-4a60-b281-788fcc6ed4c4",
   "metadata": {},
   "source": [
    "#### Method 5: Using built-in method lambda to filter series of set and fetch out common element"
   ]
  },
  {
   "cell_type": "code",
   "execution_count": 20,
   "id": "023f9422-26a4-4138-ae36-6a423d688dc4",
   "metadata": {},
   "outputs": [
    {
     "name": "stdout",
     "output_type": "stream",
     "text": [
      "[5]\n",
      "None\n"
     ]
    }
   ],
   "source": [
    "def IntersectOfSets(arr1, arr2, arr3):\n",
    "    common = list(filter(lambda x: x in arr2 and x in arr3, arr1))\n",
    "    print(common)\n",
    "\n",
    "arr1 = [1, 2, 3, 4, 5]\n",
    "arr2 = [3, 4, 5, 6, 7]\n",
    "arr3 = [5, 6, 7, 8, 9]\n",
    "\n",
    "common = IntersectOfSets(arr1, arr2, arr3)\n",
    "print(common)"
   ]
  },
  {
   "cell_type": "code",
   "execution_count": null,
   "id": "f5cb7adf-07a4-4fa7-bcfe-b010565cb338",
   "metadata": {},
   "outputs": [],
   "source": [
    "cnt = 0\n",
    "while cnt < 10:\n",
    "    cnt += 1\n",
    "    if cnt % 2 == 0:\n",
    "        continue\n",
    "    print(cnt)\n",
    "        "
   ]
  },
  {
   "cell_type": "code",
   "execution_count": 1,
   "id": "39bc84cb-e9ca-4c96-b5fa-dfeed2241b9b",
   "metadata": {},
   "outputs": [
    {
     "name": "stdout",
     "output_type": "stream",
     "text": [
      "4\n",
      "3\n",
      "2\n",
      "1\n",
      "0\n"
     ]
    }
   ],
   "source": [
    "X=5;\n",
    "\n",
    "while X>0:\n",
    "\n",
    "      X=X-1;\n",
    "\n",
    "      print(X)"
   ]
  },
  {
   "cell_type": "code",
   "execution_count": 3,
   "id": "89408840-705f-4637-96a6-0bc201022f89",
   "metadata": {},
   "outputs": [
    {
     "data": {
      "text/plain": [
       "2.0"
      ]
     },
     "execution_count": 3,
     "metadata": {},
     "output_type": "execute_result"
    }
   ],
   "source": [
    "4 ** 0.5"
   ]
  },
  {
   "cell_type": "code",
   "execution_count": 11,
   "id": "7650f6a1-e148-4c3e-b849-f8cdfc9616d7",
   "metadata": {},
   "outputs": [
    {
     "name": "stdout",
     "output_type": "stream",
     "text": [
      "25\n",
      "None\n"
     ]
    }
   ],
   "source": [
    "def fun(func, arg):\n",
    "  return func(arg)\n",
    "\n",
    "def squre(x):\n",
    "  return x ** 2\n",
    "\n",
    "res = fun(square, 5)\n",
    "print(res)\n",
    "\n",
    "# A function that takes another function as an argument\n",
    "def fun(func, arg):\n",
    "    return func(arg)\n",
    "  \n",
    "def square(x):\n",
    "    return x ** 2\n",
    "\n",
    "def doublet(x):\n",
    "    x * 2\n",
    "  \n",
    "# Calling fun and passing square function as an argument  \n",
    "res = fun(square, 5)\n",
    "print(res)"
   ]
  },
  {
   "cell_type": "code",
   "execution_count": 13,
   "id": "4b04359a-ee62-4b93-a877-aea40a296c38",
   "metadata": {},
   "outputs": [
    {
     "data": {
      "text/plain": [
       "'Alice'"
      ]
     },
     "execution_count": 13,
     "metadata": {},
     "output_type": "execute_result"
    }
   ],
   "source": [
    "class Person():\n",
    "\n",
    "    def __init__(self, name, age):\n",
    "        self.name = name\n",
    "        self.age = age\n",
    "\n",
    "person = Person(\"Alice\", 30)\n",
    "person.name\n",
    "# person.age"
   ]
  },
  {
   "cell_type": "code",
   "execution_count": null,
   "id": "f3974c20-c995-42d0-bd57-18e95a21f643",
   "metadata": {},
   "outputs": [],
   "source": []
  }
 ],
 "metadata": {
  "kernelspec": {
   "display_name": "Python 3 (ipykernel)",
   "language": "python",
   "name": "python3"
  },
  "language_info": {
   "codemirror_mode": {
    "name": "ipython",
    "version": 3
   },
   "file_extension": ".py",
   "mimetype": "text/x-python",
   "name": "python",
   "nbconvert_exporter": "python",
   "pygments_lexer": "ipython3",
   "version": "3.12.7"
  }
 },
 "nbformat": 4,
 "nbformat_minor": 5
}
