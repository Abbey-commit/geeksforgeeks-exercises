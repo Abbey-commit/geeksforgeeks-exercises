{
 "cells": [
  {
   "cell_type": "markdown",
   "id": "831bf962-ecdd-4396-96d3-89403d9f56e9",
   "metadata": {},
   "source": [
    "##### Min & Max Array"
   ]
  },
  {
   "cell_type": "markdown",
   "id": "6bf6494c-cf1b-49bf-bbb1-7e281bc1412b",
   "metadata": {},
   "source": [
    "Given an array arr. Your task is to find the minimum and maximum elements in the array.\n",
    "\n",
    "Note: Return a Pair that contains two elements the first one will be a minimum element and the second will be a maximum."
   ]
  },
  {
   "cell_type": "code",
   "execution_count": 19,
   "id": "1093b68b-ae39-4b6a-92a1-5e6d84721551",
   "metadata": {},
   "outputs": [
    {
     "name": "stdin",
     "output_type": "stream",
     "text": [
      "Enter the number of time to test:  2\n",
      "Enter an array separated by empty space:  3 1 0 4 -2  3\n"
     ]
    },
    {
     "name": "stdout",
     "output_type": "stream",
     "text": [
      "Min: -2, max: 4\n",
      "======\n"
     ]
    },
    {
     "name": "stdin",
     "output_type": "stream",
     "text": [
      "Enter an array separated by empty space:  999 2 1 83    3\n"
     ]
    },
    {
     "name": "stdout",
     "output_type": "stream",
     "text": [
      "Min: 1, max: 999\n",
      "======\n"
     ]
    }
   ],
   "source": [
    "# Create a class to solve it\n",
    "class Solution:\n",
    "    def get_min_max(self, arr):\n",
    "        if not arr:\n",
    "            return None, None\n",
    "        return min(arr), max(arr)\n",
    "\n",
    "# Driver's code\n",
    "if __name__==\"__main__\":\n",
    "    try:\n",
    "        tr = int(input(\"Enter the number of time to test: \"))\n",
    "        while tr > 0:\n",
    "            inp = list(map(int, input(\"Enter an array separated by empty space: \").split()))\n",
    "            obj = Solution()\n",
    "            mn, mx = obj.get_min_max(inp)\n",
    "            if mn is not None and mx is not None:\n",
    "                print(f\"Min: {mn}, max: {mx}\")\n",
    "            else:\n",
    "                print(\"Oops! Array is empty, kindly put number.\")\n",
    "            tr -= 1\n",
    "            print(\"======\")\n",
    "    except ValueError:\n",
    "        print(\"Enter a valid integer.\")"
   ]
  },
  {
   "cell_type": "code",
   "execution_count": 2,
   "id": "09ce9489-1e90-4b8a-a733-32983007a4c5",
   "metadata": {},
   "outputs": [
    {
     "name": "stdin",
     "output_type": "stream",
     "text": [
      "Enter the number of test cases:  3\n",
      "Enter space-separated integers:  2 0 4 0.2\n"
     ]
    },
    {
     "name": "stdout",
     "output_type": "stream",
     "text": [
      "Invalid input. Please enter space-separated integers.\n"
     ]
    },
    {
     "name": "stdin",
     "output_type": "stream",
     "text": [
      "Enter space-separated integers:  2, 3, 0, -1\n"
     ]
    },
    {
     "name": "stdout",
     "output_type": "stream",
     "text": [
      "Invalid input. Please enter space-separated integers.\n"
     ]
    },
    {
     "name": "stdin",
     "output_type": "stream",
     "text": [
      "Enter space-separated integers:  \n"
     ]
    },
    {
     "name": "stdout",
     "output_type": "stream",
     "text": [
      "No input provided. Please enter space-separated integers.\n"
     ]
    }
   ],
   "source": [
    "class Solution:\n",
    "    def get_min_max(self, arr):\n",
    "        if not arr:  # Handle empty array case\n",
    "            return None, None\n",
    "        return min(arr), max(arr)\n",
    "\n",
    "# Test Driver Code\n",
    "if __name__ == \"__main__\":\n",
    "    try:\n",
    "        t = int(input(\"Enter the number of test cases: \"))  # Prompt for number of test cases\n",
    "        if t <= 0:\n",
    "            print(\"Number of test cases must be a positive integer.\")\n",
    "        else:\n",
    "            while t > 0:\n",
    "                try:\n",
    "                    # Read input and convert to list of integers\n",
    "                    tr = list(map(int, input(\"Enter space-separated integers: \").split()))\n",
    "                    if not tr:  # Handle empty input case\n",
    "                        print(\"No input provided. Please enter space-separated integers.\")\n",
    "                    else:\n",
    "                        ob = Solution()\n",
    "                        mi, mx = ob.get_min_max(tr)\n",
    "                        print(f\"Minimum: {mi}, Maximum: {mx}\")\n",
    "                except ValueError:  # Handle non-integer input\n",
    "                    print(\"Invalid input. Please enter space-separated integers.\")\n",
    "                t -= 1\n",
    "    except ValueError:  # Handle invalid number of test cases\n",
    "        print(\"Invalid input. Please enter a valid integer for the number of test cases.\")"
   ]
  },
  {
   "cell_type": "code",
   "execution_count": 4,
   "id": "5d687340-de07-45c9-9c3f-fcc36ba794b4",
   "metadata": {},
   "outputs": [
    {
     "name": "stdin",
     "output_type": "stream",
     "text": [
      "Enter the number of test cases:  2\n",
      "Enter space-separated integers:  3, 9, 0.3\n"
     ]
    },
    {
     "name": "stdout",
     "output_type": "stream",
     "text": [
      "Invalid input. Please enter space-separated integers.\n"
     ]
    },
    {
     "name": "stdin",
     "output_type": "stream",
     "text": [
      "Enter space-separated integers:  \n"
     ]
    },
    {
     "name": "stdout",
     "output_type": "stream",
     "text": [
      "No input provided. Please enter space-separated integers.\n"
     ]
    }
   ],
   "source": [
    "class Solution:\n",
    "    def get_min_max(self, arr):\n",
    "        if not arr:  # Handle empty array case\n",
    "            return None, None\n",
    "        return min(arr), max(arr)\n",
    "\n",
    "# Test Driver Code\n",
    "if __name__ == \"__main__\":\n",
    "    try:\n",
    "        t = int(input(\"Enter the number of test cases: \"))  # Prompt for number of test cases\n",
    "        if t <= 0:\n",
    "            print(\"Number of test cases must be a positive integer.\")\n",
    "        else:\n",
    "            while t > 0:\n",
    "                try:\n",
    "                    # Read input and convert to list of integers\n",
    "                    tr = list(map(int, input(\"Enter space-separated integers: \").split()))\n",
    "                    if not tr:  # Handle empty input case\n",
    "                        print(\"No input provided. Please enter space-separated integers.\")\n",
    "                    else:\n",
    "                        ob = Solution()\n",
    "                        mi, mx = ob.get_min_max(tr)\n",
    "                        print(f\"Minimum: {mi}, Maximum: {mx}\")\n",
    "                except ValueError:  # Handle non-integer input\n",
    "                    print(\"Invalid input. Please enter space-separated integers.\")\n",
    "                t -= 1\n",
    "    except ValueError:  # Handle invalid number of test cases\n",
    "        print(\"Invalid input. Please enter a valid integer for the number of test cases.\")"
   ]
  },
  {
   "cell_type": "code",
   "execution_count": 5,
   "id": "c39903a9-9ee3-40e9-851e-b2c5d9108f5f",
   "metadata": {},
   "outputs": [
    {
     "name": "stdin",
     "output_type": "stream",
     "text": [
      "Enter the number of test cases:  2\n",
      "Enter space-separated integers:  3 0 4 9 0.03, -19927\n"
     ]
    },
    {
     "name": "stdout",
     "output_type": "stream",
     "text": [
      "Invalid input. Please enter a valid integer for the number of test cases.\n"
     ]
    },
    {
     "name": "stdin",
     "output_type": "stream",
     "text": [
      "Enter space-separated integers:  -18292038 3 0 1 1000\n"
     ]
    },
    {
     "name": "stdout",
     "output_type": "stream",
     "text": [
      "Minimum: -18292038, Maximum: 1000\n"
     ]
    }
   ],
   "source": [
    "class Solution:\n",
    "    def get_min_max(self, arr):\n",
    "        if not arr:  # Handle empty array case\n",
    "            return None, None\n",
    "        return min(arr), max(arr)\n",
    "\n",
    "# Test Driver Code\n",
    "if __name__ == \"__main__\":\n",
    "    try:\n",
    "        t = int(input(\"Enter the number of test cases: \"))  # Prompt for number of test cases\n",
    "        if t <= 0:\n",
    "            print(\"Number of test cases must be a positive integer.\")\n",
    "        else:\n",
    "            while t > 0:\n",
    "                try:\n",
    "                    # Read input and convert to list of integers\n",
    "                    tr = list(map(int, input(\"Enter space-separated integers: \").split()))\n",
    "                    if not tr:  # Handle empty input case\n",
    "                        print(\"No input provided. Please enter space-separated integers.\")\n",
    "                    else:\n",
    "                        ob = Solution()\n",
    "                        mi, mx = ob.get_min_max(tr)\n",
    "                        print(f\"Minimum: {mi}, Maximum: {mx}\")\n",
    "                except ValueError:  # Handle non-integer input\n",
    "                    print(\"Invalid input. Please enter a valid integer for the number of test cases.\")\n",
    "                t -= 1\n",
    "    except ValueError:  # Handle invalid number of test cases\n",
    "        print(\"Invalid input. Please enter a valid integer for the number of test cases.\")"
   ]
  },
  {
   "cell_type": "code",
   "execution_count": null,
   "id": "933e6686-5844-4f43-9c5c-49932d332ec0",
   "metadata": {},
   "outputs": [],
   "source": []
  }
 ],
 "metadata": {
  "kernelspec": {
   "display_name": "Python 3 (ipykernel)",
   "language": "python",
   "name": "python3"
  },
  "language_info": {
   "codemirror_mode": {
    "name": "ipython",
    "version": 3
   },
   "file_extension": ".py",
   "mimetype": "text/x-python",
   "name": "python",
   "nbconvert_exporter": "python",
   "pygments_lexer": "ipython3",
   "version": "3.12.7"
  }
 },
 "nbformat": 4,
 "nbformat_minor": 5
}
